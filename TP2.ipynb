{
  "cells": [
    {
      "cell_type": "markdown",
      "metadata": {
        "id": "view-in-github",
        "colab_type": "text"
      },
      "source": [
        "<a href=\"https://colab.research.google.com/github/FrancoiseArtignan/VDB_jupyter/blob/refit_2021_student/TP2.ipynb\" target=\"_parent\"><img src=\"https://colab.research.google.com/assets/colab-badge.svg\" alt=\"Open In Colab\"/></a>"
      ]
    },
    {
      "cell_type": "markdown",
      "metadata": {
        "id": "rBGw9cUBhFKa"
      },
      "source": [
        "\n",
        "## Objectifs\n",
        "##### 1 Lire et traiter des données d'entrée avec [PANDAS](https://pandas.pydata.org/)\n",
        "\n",
        "##### 2 Représenter la distribution empirique des \"fold-change\" (**FC**) vs Précision, aka: volcano-plot\n",
        "    \n",
        "##### 3 Effectuer une analyse de sur-représentation en termes GO\n",
        "\n",
        "\n",
        "## Ressources : Rappels et illustration de l'analyse de représentation de termes GO\n",
        "###### [TP de MADP](https://github.com/glaunay/tp-proteomics#3-obtention-des-param%C3%A8tres-du-mod%C3%A8le)\n",
        "###### [Fiche Bioconductor](https://www.bioconductor.org/help/course-materials/2015/SeattleApr2015/E_GeneSetEnrichment.html)\n",
        "\n"
      ]
    },
    {
      "cell_type": "code",
      "execution_count": 1,
      "metadata": {
        "colab": {
          "base_uri": "https://localhost:8080/"
        },
        "id": "a5ziNnWgGyO9",
        "outputId": "175a4221-8bae-4840-ec54-a75416c039b7"
      },
      "outputs": [
        {
          "output_type": "stream",
          "name": "stdout",
          "text": [
            "Mounted at /content/drive\n"
          ]
        }
      ],
      "source": [
        "from google.colab import drive\n",
        "drive.mount('/content/drive')"
      ]
    },
    {
      "cell_type": "markdown",
      "metadata": {
        "id": "9ey2grR7hFKe"
      },
      "source": [
        "### Préparation de  l'environnement\n",
        "\n",
        "##### Please `pip install -r requirements.txt` first\n",
        "\n",
        "##### Directory Configuration\n",
        "\n",
        "* `workDir` points to the Git project, holds the *tsv* file\n",
        "* `libDir` points to Git project subdirectory hosting python library with files names `go.py  stat_utils.py  uniprot.py`\n",
        "* `dataDir` points to the data folder with uniprot and GO files"
      ]
    },
    {
      "cell_type": "code",
      "execution_count": 2,
      "metadata": {
        "colab": {
          "base_uri": "https://localhost:8080/"
        },
        "id": "BnGVw1wMMI-d",
        "outputId": "7fdd3d6a-5ac0-4eff-cc51-d2e0e4efc125"
      },
      "outputs": [
        {
          "output_type": "stream",
          "name": "stdout",
          "text": [
            "Looking in indexes: https://pypi.org/simple, https://us-python.pkg.dev/colab-wheels/public/simple/\n",
            "Collecting biopython\n",
            "  Downloading biopython-1.79-cp37-cp37m-manylinux_2_17_x86_64.manylinux2014_x86_64.whl (2.6 MB)\n",
            "\u001b[K     |████████████████████████████████| 2.6 MB 2.1 MB/s \n",
            "\u001b[?25hRequirement already satisfied: numpy in /usr/local/lib/python3.7/dist-packages (from biopython) (1.21.6)\n",
            "Installing collected packages: biopython\n",
            "Successfully installed biopython-1.79\n"
          ]
        }
      ],
      "source": [
        "!pip install biopython"
      ]
    },
    {
      "cell_type": "code",
      "execution_count": 3,
      "metadata": {
        "colab": {
          "base_uri": "https://localhost:8080/"
        },
        "id": "4wZiyE2JMbaW",
        "outputId": "b2cf820a-5f2e-4eed-f9d4-09553ccbf466"
      },
      "outputs": [
        {
          "output_type": "stream",
          "name": "stdout",
          "text": [
            "Looking in indexes: https://pypi.org/simple, https://us-python.pkg.dev/colab-wheels/public/simple/\n",
            "Collecting pyproteinsExt==1.5\n",
            "  Downloading pyproteinsExt-1.5.tar.gz (48 kB)\n",
            "\u001b[K     |████████████████████████████████| 48 kB 1.3 MB/s \n",
            "\u001b[?25hCollecting pyproteins\n",
            "  Downloading pyproteins-1.5.1-py3-none-any.whl (29 kB)\n",
            "Requirement already satisfied: networkx in /usr/local/lib/python3.7/dist-packages (from pyproteinsExt==1.5) (2.6.3)\n",
            "Requirement already satisfied: bs4 in /usr/local/lib/python3.7/dist-packages (from pyproteinsExt==1.5) (0.0.1)\n",
            "Requirement already satisfied: biopython in /usr/local/lib/python3.7/dist-packages (from pyproteinsExt==1.5) (1.79)\n",
            "Requirement already satisfied: numpy in /usr/local/lib/python3.7/dist-packages (from biopython->pyproteinsExt==1.5) (1.21.6)\n",
            "Requirement already satisfied: beautifulsoup4 in /usr/local/lib/python3.7/dist-packages (from bs4->pyproteinsExt==1.5) (4.6.3)\n",
            "Requirement already satisfied: lxml<5.0.0,>=4.6.3 in /usr/local/lib/python3.7/dist-packages (from pyproteins->pyproteinsExt==1.5) (4.9.1)\n",
            "Building wheels for collected packages: pyproteinsExt\n",
            "  Building wheel for pyproteinsExt (setup.py) ... \u001b[?25l\u001b[?25hdone\n",
            "  Created wheel for pyproteinsExt: filename=pyproteinsExt-1.5-py3-none-any.whl size=49533 sha256=1fe2b68c2ea9ca887af1c6f3c61b82294f5a239f8b7cccf5e28ccd731647eec2\n",
            "  Stored in directory: /root/.cache/pip/wheels/78/ff/24/7e0185700b975bda741abe545cb486ea6ca3422a39ce5ca50a\n",
            "Successfully built pyproteinsExt\n",
            "Installing collected packages: pyproteins, pyproteinsExt\n",
            "Successfully installed pyproteins-1.5.1 pyproteinsExt-1.5\n"
          ]
        }
      ],
      "source": [
        "!pip install pyproteinsExt==1.5"
      ]
    },
    {
      "cell_type": "code",
      "execution_count": 4,
      "metadata": {
        "colab": {
          "base_uri": "https://localhost:8080/"
        },
        "id": "PdcmpF22NITt",
        "outputId": "7f4f62a4-5a31-4289-a4b6-45f51cae7223"
      },
      "outputs": [
        {
          "output_type": "stream",
          "name": "stdout",
          "text": [
            "Looking in indexes: https://pypi.org/simple, https://us-python.pkg.dev/colab-wheels/public/simple/\n",
            "Collecting owlready2\n",
            "  Downloading Owlready2-0.39.tar.gz (25.5 MB)\n",
            "\u001b[K     |████████████████████████████████| 25.5 MB 1.8 MB/s \n",
            "\u001b[?25hBuilding wheels for collected packages: owlready2\n",
            "  Building wheel for owlready2 (setup.py) ... \u001b[?25l\u001b[?25hdone\n",
            "  Created wheel for owlready2: filename=Owlready2-0.39-cp37-cp37m-linux_x86_64.whl size=22132069 sha256=8cea8eb27bd16ddc82e494653cde0082cb537121c9fb0346da61913709ee7a40\n",
            "  Stored in directory: /root/.cache/pip/wheels/c9/5b/fc/da1e42a17f22cd62bfb170f847a3fb541a7f628858ad3595ec\n",
            "Successfully built owlready2\n",
            "Installing collected packages: owlready2\n",
            "Successfully installed owlready2-0.39\n"
          ]
        }
      ],
      "source": [
        "!pip install owlready2"
      ]
    },
    {
      "cell_type": "code",
      "execution_count": 5,
      "metadata": {
        "colab": {
          "base_uri": "https://localhost:8080/"
        },
        "id": "4A9zBFRDNNJa",
        "outputId": "fc4f52c9-3410-4f2d-fa48-64e99ff48b4f"
      },
      "outputs": [
        {
          "output_type": "stream",
          "name": "stdout",
          "text": [
            "Looking in indexes: https://pypi.org/simple, https://us-python.pkg.dev/colab-wheels/public/simple/\n",
            "Collecting pyproteins==1.5\n",
            "  Downloading pyproteins-1.5.tar.gz (25 kB)\n",
            "Requirement already satisfied: bs4 in /usr/local/lib/python3.7/dist-packages (from pyproteins==1.5) (0.0.1)\n",
            "Requirement already satisfied: biopython in /usr/local/lib/python3.7/dist-packages (from pyproteins==1.5) (1.79)\n",
            "Requirement already satisfied: numpy in /usr/local/lib/python3.7/dist-packages (from pyproteins==1.5) (1.21.6)\n",
            "Requirement already satisfied: lxml in /usr/local/lib/python3.7/dist-packages (from pyproteins==1.5) (4.9.1)\n",
            "Requirement already satisfied: beautifulsoup4 in /usr/local/lib/python3.7/dist-packages (from bs4->pyproteins==1.5) (4.6.3)\n",
            "Building wheels for collected packages: pyproteins\n",
            "  Building wheel for pyproteins (setup.py) ... \u001b[?25l\u001b[?25hdone\n",
            "  Created wheel for pyproteins: filename=pyproteins-1.5-py3-none-any.whl size=29836 sha256=c25651b58472f6febe38f87ef4272afe045997f37ad7c262b1ff6a39612b9dbd\n",
            "  Stored in directory: /root/.cache/pip/wheels/9f/39/3e/fbb597204438248386e256fc4d7a09b88512dfc5bdbce2cb19\n",
            "Successfully built pyproteins\n",
            "Installing collected packages: pyproteins\n",
            "  Attempting uninstall: pyproteins\n",
            "    Found existing installation: pyproteins 1.5.1\n",
            "    Uninstalling pyproteins-1.5.1:\n",
            "      Successfully uninstalled pyproteins-1.5.1\n",
            "Successfully installed pyproteins-1.5\n"
          ]
        }
      ],
      "source": [
        "!pip install pyproteins==1.5"
      ]
    },
    {
      "cell_type": "code",
      "execution_count": 16,
      "metadata": {
        "id": "zY1mgS9QhFKg"
      },
      "outputs": [],
      "source": [
        "import sys, os\n",
        "workDir = f\"{os.getcwd()}/..\"\n",
        "libDir = f\"{workDir}/content/drive/MyDrive/M2-2022-2023/VDB/VDB_jupyter/lib\"\n",
        "dataDir= f\"{workDir}/content/drive/MyDrive/M2-2022-2023/VDB/VDB_jupyter/data\" \n",
        "\n",
        "sys.path.append(libDir)"
      ]
    },
    {
      "cell_type": "code",
      "execution_count": 7,
      "metadata": {
        "id": "-hiwyt7LhFKh"
      },
      "outputs": [],
      "source": [
        "%load_ext autoreload\n",
        "%autoreload 2"
      ]
    },
    {
      "cell_type": "code",
      "execution_count": 8,
      "metadata": {
        "id": "gDw0NCMDhFKh"
      },
      "outputs": [],
      "source": [
        "import pandas as pd\n",
        "import numpy as np"
      ]
    },
    {
      "cell_type": "code",
      "execution_count": 9,
      "metadata": {
        "id": "R8f1T7u9hFKh"
      },
      "outputs": [],
      "source": [
        "%matplotlib inline\n",
        "import matplotlib.pyplot as plt"
      ]
    },
    {
      "cell_type": "markdown",
      "metadata": {
        "id": "nTPPjOBihFKh"
      },
      "source": [
        "## Jeux de données\n",
        "* Jeux de données de protéomique quantitative au format TSV\n",
        "* Ontologie GO au format [owl](http://www.obofoundry.org/ontology/go.html)\n",
        "* Entrées Uniprot au format XML\n",
        "    * Protéines de l'étude\n",
        "    * Protéome d'E.Coli complet\n",
        "    \n",
        "<hr style=\"border:1px solid gray\"> </hr>"
      ]
    },
    {
      "cell_type": "markdown",
      "metadata": {
        "id": "YI8zMadWhFKi"
      },
      "source": [
        "### Lecture des valeurs experimentales\n",
        "Charger ```TCL_wt1.tsv``` dans une [dataframe pandas](https://pandas.pydata.org/pandas-docs/stable/reference/api/pandas.read_csv.html).\n",
        "<br/><span style=\"color:firebrick;font-weight:bold\"> $\\rhd$ \n",
        "Retirer les lignes présentant des aberrations numériques\n",
        "</span>\n",
        "<br/><span style=\"color:firebrick;font-weight:bold\">$\\rhd$ Attention aux types des colonnes !</span>"
      ]
    },
    {
      "cell_type": "code",
      "execution_count": 21,
      "metadata": {
        "id": "uZyCcrNehFKj",
        "colab": {
          "base_uri": "https://localhost:8080/"
        },
        "outputId": "ed49358c-fa11-4875-d782-bc6982d29a76"
      },
      "outputs": [
        {
          "output_type": "stream",
          "name": "stderr",
          "text": [
            "/usr/local/lib/python3.7/dist-packages/ipykernel_launcher.py:3: DeprecationWarning: `np.float` is a deprecated alias for the builtin `float`. To silence this warning, use `float` by itself. Doing this will not modify any behavior and is safe. If you specifically wanted the numpy scalar type, use `np.float64` here.\n",
            "Deprecated in NumPy 1.20; for more details and guidance: https://numpy.org/devdocs/release/1.20.0-notes.html#deprecations\n",
            "  This is separate from the ipykernel package so we can avoid doing imports until\n",
            "/usr/local/lib/python3.7/dist-packages/ipykernel_launcher.py:4: DeprecationWarning: `np.float` is a deprecated alias for the builtin `float`. To silence this warning, use `float` by itself. Doing this will not modify any behavior and is safe. If you specifically wanted the numpy scalar type, use `np.float64` here.\n",
            "Deprecated in NumPy 1.20; for more details and guidance: https://numpy.org/devdocs/release/1.20.0-notes.html#deprecations\n",
            "  after removing the cwd from sys.path.\n",
            "/usr/local/lib/python3.7/dist-packages/ipykernel_launcher.py:5: DeprecationWarning: `np.float` is a deprecated alias for the builtin `float`. To silence this warning, use `float` by itself. Doing this will not modify any behavior and is safe. If you specifically wanted the numpy scalar type, use `np.float64` here.\n",
            "Deprecated in NumPy 1.20; for more details and guidance: https://numpy.org/devdocs/release/1.20.0-notes.html#deprecations\n",
            "  \"\"\"\n",
            "/usr/local/lib/python3.7/dist-packages/ipykernel_launcher.py:6: DeprecationWarning: `np.float` is a deprecated alias for the builtin `float`. To silence this warning, use `float` by itself. Doing this will not modify any behavior and is safe. If you specifically wanted the numpy scalar type, use `np.float64` here.\n",
            "Deprecated in NumPy 1.20; for more details and guidance: https://numpy.org/devdocs/release/1.20.0-notes.html#deprecations\n",
            "  \n"
          ]
        }
      ],
      "source": [
        "data = pd.read_csv(\"/content/drive/MyDrive/M2-2022-2023/VDB/VDB_jupyter/TCL_wt1.tsv\",sep = '\\t', na_values=\"#VALEUR!\", \n",
        "                   dtype = {'Accession': str, 'Description': str, 'Gene Symbol': str, \n",
        "                            'Corrected Abundance ratio (1.53)': np.float,  \n",
        "                            'Log2 Corrected Abundance Ratio': np.float,  \n",
        "                            'Abundance Ratio Adj. P-Value: (127. T3 Tc WT) / (126. T0 WT)': np.float, \n",
        "                            '-LOG10 Adj.P-val': np.float})\n",
        "data = data.copy()\n",
        "data = data.dropna()"
      ]
    },
    {
      "cell_type": "code",
      "execution_count": 22,
      "metadata": {
        "colab": {
          "base_uri": "https://localhost:8080/",
          "height": 363
        },
        "id": "Y0HwK44ForgB",
        "outputId": "75fc3250-8c75-43d4-ac25-b62cae2192f6"
      },
      "outputs": [
        {
          "output_type": "execute_result",
          "data": {
            "text/plain": [
              "   Accession                                        Description Gene Symbol  \\\n",
              "0     P75936  Basal-body rod modification protein FlgD OS=Es...        flgD   \n",
              "1     P76231  Uncharacterized protein YeaC OS=Escherichia co...        yeaC   \n",
              "2     P0A8S9  Flagellar transcriptional regulator FlhD OS=Es...        flhD   \n",
              "4     P05706  PTS system glucitol/sorbitol-specific EIIA com...        srlB   \n",
              "5     P29744  Flagellar hook-associated protein 3 OS=Escheri...        flgL   \n",
              "6     P0A9A2  Bacterial non-heme ferritin-like protein OS=Es...        ftnB   \n",
              "7     P75937  Flagellar hook protein FlgE OS=Escherichia col...        flgE   \n",
              "8     P43533  Flagella synthesis protein FlgN OS=Escherichia...        flgN   \n",
              "9     P0ABR1  DNA damage-inducible protein I OS=Escherichia ...        dinI   \n",
              "10    P26608  Flagellar secretion chaperone FliS OS=Escheric...        fliS   \n",
              "\n",
              "    Corrected Abundance ratio (1.53)  Log2 Corrected Abundance Ratio  \\\n",
              "0                           0.075817                       -3.721335   \n",
              "1                           0.092810                       -3.429569   \n",
              "2                           0.102614                       -3.284695   \n",
              "4                           0.108497                       -3.204277   \n",
              "5                           0.124183                       -3.009460   \n",
              "6                           0.126797                       -2.979403   \n",
              "7                           0.137908                       -2.858217   \n",
              "8                           0.150327                       -2.733826   \n",
              "9                           0.159477                       -2.648579   \n",
              "10                          0.162092                       -2.625120   \n",
              "\n",
              "    Abundance Ratio Adj. P-Value: (127. T3 Tc WT) / (126. T0 WT)  \\\n",
              "0                                        5.494560e-05              \n",
              "1                                        3.510530e-04              \n",
              "2                                        2.679790e-05              \n",
              "4                                        1.996330e-02              \n",
              "5                                        3.674628e-02              \n",
              "6                                        1.296589e-03              \n",
              "7                                        7.012880e-07              \n",
              "8                                        1.322797e-03              \n",
              "9                                        4.689497e-01              \n",
              "10                                       5.282561e-01              \n",
              "\n",
              "    LOG10 Adj.P-val  \n",
              "0          4.260067  \n",
              "1          3.454627  \n",
              "2          4.571899  \n",
              "4          1.699768  \n",
              "5          1.434787  \n",
              "6          2.887198  \n",
              "7          6.154104  \n",
              "8          2.878507  \n",
              "9          0.328874  \n",
              "10         0.277155  "
            ],
            "text/html": [
              "\n",
              "  <div id=\"df-5e1018e3-b5c4-4d9e-a0b9-a96fb0f52d9e\">\n",
              "    <div class=\"colab-df-container\">\n",
              "      <div>\n",
              "<style scoped>\n",
              "    .dataframe tbody tr th:only-of-type {\n",
              "        vertical-align: middle;\n",
              "    }\n",
              "\n",
              "    .dataframe tbody tr th {\n",
              "        vertical-align: top;\n",
              "    }\n",
              "\n",
              "    .dataframe thead th {\n",
              "        text-align: right;\n",
              "    }\n",
              "</style>\n",
              "<table border=\"1\" class=\"dataframe\">\n",
              "  <thead>\n",
              "    <tr style=\"text-align: right;\">\n",
              "      <th></th>\n",
              "      <th>Accession</th>\n",
              "      <th>Description</th>\n",
              "      <th>Gene Symbol</th>\n",
              "      <th>Corrected Abundance ratio (1.53)</th>\n",
              "      <th>Log2 Corrected Abundance Ratio</th>\n",
              "      <th>Abundance Ratio Adj. P-Value: (127. T3 Tc WT) / (126. T0 WT)</th>\n",
              "      <th>LOG10 Adj.P-val</th>\n",
              "    </tr>\n",
              "  </thead>\n",
              "  <tbody>\n",
              "    <tr>\n",
              "      <th>0</th>\n",
              "      <td>P75936</td>\n",
              "      <td>Basal-body rod modification protein FlgD OS=Es...</td>\n",
              "      <td>flgD</td>\n",
              "      <td>0.075817</td>\n",
              "      <td>-3.721335</td>\n",
              "      <td>5.494560e-05</td>\n",
              "      <td>4.260067</td>\n",
              "    </tr>\n",
              "    <tr>\n",
              "      <th>1</th>\n",
              "      <td>P76231</td>\n",
              "      <td>Uncharacterized protein YeaC OS=Escherichia co...</td>\n",
              "      <td>yeaC</td>\n",
              "      <td>0.092810</td>\n",
              "      <td>-3.429569</td>\n",
              "      <td>3.510530e-04</td>\n",
              "      <td>3.454627</td>\n",
              "    </tr>\n",
              "    <tr>\n",
              "      <th>2</th>\n",
              "      <td>P0A8S9</td>\n",
              "      <td>Flagellar transcriptional regulator FlhD OS=Es...</td>\n",
              "      <td>flhD</td>\n",
              "      <td>0.102614</td>\n",
              "      <td>-3.284695</td>\n",
              "      <td>2.679790e-05</td>\n",
              "      <td>4.571899</td>\n",
              "    </tr>\n",
              "    <tr>\n",
              "      <th>4</th>\n",
              "      <td>P05706</td>\n",
              "      <td>PTS system glucitol/sorbitol-specific EIIA com...</td>\n",
              "      <td>srlB</td>\n",
              "      <td>0.108497</td>\n",
              "      <td>-3.204277</td>\n",
              "      <td>1.996330e-02</td>\n",
              "      <td>1.699768</td>\n",
              "    </tr>\n",
              "    <tr>\n",
              "      <th>5</th>\n",
              "      <td>P29744</td>\n",
              "      <td>Flagellar hook-associated protein 3 OS=Escheri...</td>\n",
              "      <td>flgL</td>\n",
              "      <td>0.124183</td>\n",
              "      <td>-3.009460</td>\n",
              "      <td>3.674628e-02</td>\n",
              "      <td>1.434787</td>\n",
              "    </tr>\n",
              "    <tr>\n",
              "      <th>6</th>\n",
              "      <td>P0A9A2</td>\n",
              "      <td>Bacterial non-heme ferritin-like protein OS=Es...</td>\n",
              "      <td>ftnB</td>\n",
              "      <td>0.126797</td>\n",
              "      <td>-2.979403</td>\n",
              "      <td>1.296589e-03</td>\n",
              "      <td>2.887198</td>\n",
              "    </tr>\n",
              "    <tr>\n",
              "      <th>7</th>\n",
              "      <td>P75937</td>\n",
              "      <td>Flagellar hook protein FlgE OS=Escherichia col...</td>\n",
              "      <td>flgE</td>\n",
              "      <td>0.137908</td>\n",
              "      <td>-2.858217</td>\n",
              "      <td>7.012880e-07</td>\n",
              "      <td>6.154104</td>\n",
              "    </tr>\n",
              "    <tr>\n",
              "      <th>8</th>\n",
              "      <td>P43533</td>\n",
              "      <td>Flagella synthesis protein FlgN OS=Escherichia...</td>\n",
              "      <td>flgN</td>\n",
              "      <td>0.150327</td>\n",
              "      <td>-2.733826</td>\n",
              "      <td>1.322797e-03</td>\n",
              "      <td>2.878507</td>\n",
              "    </tr>\n",
              "    <tr>\n",
              "      <th>9</th>\n",
              "      <td>P0ABR1</td>\n",
              "      <td>DNA damage-inducible protein I OS=Escherichia ...</td>\n",
              "      <td>dinI</td>\n",
              "      <td>0.159477</td>\n",
              "      <td>-2.648579</td>\n",
              "      <td>4.689497e-01</td>\n",
              "      <td>0.328874</td>\n",
              "    </tr>\n",
              "    <tr>\n",
              "      <th>10</th>\n",
              "      <td>P26608</td>\n",
              "      <td>Flagellar secretion chaperone FliS OS=Escheric...</td>\n",
              "      <td>fliS</td>\n",
              "      <td>0.162092</td>\n",
              "      <td>-2.625120</td>\n",
              "      <td>5.282561e-01</td>\n",
              "      <td>0.277155</td>\n",
              "    </tr>\n",
              "  </tbody>\n",
              "</table>\n",
              "</div>\n",
              "      <button class=\"colab-df-convert\" onclick=\"convertToInteractive('df-5e1018e3-b5c4-4d9e-a0b9-a96fb0f52d9e')\"\n",
              "              title=\"Convert this dataframe to an interactive table.\"\n",
              "              style=\"display:none;\">\n",
              "        \n",
              "  <svg xmlns=\"http://www.w3.org/2000/svg\" height=\"24px\"viewBox=\"0 0 24 24\"\n",
              "       width=\"24px\">\n",
              "    <path d=\"M0 0h24v24H0V0z\" fill=\"none\"/>\n",
              "    <path d=\"M18.56 5.44l.94 2.06.94-2.06 2.06-.94-2.06-.94-.94-2.06-.94 2.06-2.06.94zm-11 1L8.5 8.5l.94-2.06 2.06-.94-2.06-.94L8.5 2.5l-.94 2.06-2.06.94zm10 10l.94 2.06.94-2.06 2.06-.94-2.06-.94-.94-2.06-.94 2.06-2.06.94z\"/><path d=\"M17.41 7.96l-1.37-1.37c-.4-.4-.92-.59-1.43-.59-.52 0-1.04.2-1.43.59L10.3 9.45l-7.72 7.72c-.78.78-.78 2.05 0 2.83L4 21.41c.39.39.9.59 1.41.59.51 0 1.02-.2 1.41-.59l7.78-7.78 2.81-2.81c.8-.78.8-2.07 0-2.86zM5.41 20L4 18.59l7.72-7.72 1.47 1.35L5.41 20z\"/>\n",
              "  </svg>\n",
              "      </button>\n",
              "      \n",
              "  <style>\n",
              "    .colab-df-container {\n",
              "      display:flex;\n",
              "      flex-wrap:wrap;\n",
              "      gap: 12px;\n",
              "    }\n",
              "\n",
              "    .colab-df-convert {\n",
              "      background-color: #E8F0FE;\n",
              "      border: none;\n",
              "      border-radius: 50%;\n",
              "      cursor: pointer;\n",
              "      display: none;\n",
              "      fill: #1967D2;\n",
              "      height: 32px;\n",
              "      padding: 0 0 0 0;\n",
              "      width: 32px;\n",
              "    }\n",
              "\n",
              "    .colab-df-convert:hover {\n",
              "      background-color: #E2EBFA;\n",
              "      box-shadow: 0px 1px 2px rgba(60, 64, 67, 0.3), 0px 1px 3px 1px rgba(60, 64, 67, 0.15);\n",
              "      fill: #174EA6;\n",
              "    }\n",
              "\n",
              "    [theme=dark] .colab-df-convert {\n",
              "      background-color: #3B4455;\n",
              "      fill: #D2E3FC;\n",
              "    }\n",
              "\n",
              "    [theme=dark] .colab-df-convert:hover {\n",
              "      background-color: #434B5C;\n",
              "      box-shadow: 0px 1px 3px 1px rgba(0, 0, 0, 0.15);\n",
              "      filter: drop-shadow(0px 1px 2px rgba(0, 0, 0, 0.3));\n",
              "      fill: #FFFFFF;\n",
              "    }\n",
              "  </style>\n",
              "\n",
              "      <script>\n",
              "        const buttonEl =\n",
              "          document.querySelector('#df-5e1018e3-b5c4-4d9e-a0b9-a96fb0f52d9e button.colab-df-convert');\n",
              "        buttonEl.style.display =\n",
              "          google.colab.kernel.accessAllowed ? 'block' : 'none';\n",
              "\n",
              "        async function convertToInteractive(key) {\n",
              "          const element = document.querySelector('#df-5e1018e3-b5c4-4d9e-a0b9-a96fb0f52d9e');\n",
              "          const dataTable =\n",
              "            await google.colab.kernel.invokeFunction('convertToInteractive',\n",
              "                                                     [key], {});\n",
              "          if (!dataTable) return;\n",
              "\n",
              "          const docLinkHtml = 'Like what you see? Visit the ' +\n",
              "            '<a target=\"_blank\" href=https://colab.research.google.com/notebooks/data_table.ipynb>data table notebook</a>'\n",
              "            + ' to learn more about interactive tables.';\n",
              "          element.innerHTML = '';\n",
              "          dataTable['output_type'] = 'display_data';\n",
              "          await google.colab.output.renderOutput(dataTable, element);\n",
              "          const docLink = document.createElement('div');\n",
              "          docLink.innerHTML = docLinkHtml;\n",
              "          element.appendChild(docLink);\n",
              "        }\n",
              "      </script>\n",
              "    </div>\n",
              "  </div>\n",
              "  "
            ]
          },
          "metadata": {},
          "execution_count": 22
        }
      ],
      "source": [
        "#index_with_nan = data.index[data.isnull().any(axis=1)]\n",
        "#data.drop(index_with_nan, 0, inplace=True)\n",
        "\n",
        "new_data = data[ (data['Log2 Corrected Abundance Ratio'] != '#VALEUR!') & (data['LOG10 Adj.P-val'] != '#VALEUR!')]\n",
        "new_data.loc[:,'Log2 Corrected Abundance Ratio'] = new_data.loc[:,'Log2 Corrected Abundance Ratio'].astype(float)\n",
        "new_data.head(10)\n"
      ]
    },
    {
      "cell_type": "markdown",
      "metadata": {
        "id": "QGWyIEpxhFKk"
      },
      "source": [
        "##### 1. Un premier volcano-plot\n",
        "\n",
        "Ce type de figure représente pour chaque protéine en abscisse le taux d'abondance et en ordonnée la précision de la mesure.\n",
        "\n",
        "<span style=\"color:firebrick;font-weight:bold\">$\\rhd$ 1. Réaliser un scatter plot matplotlib avec</span>\n",
        "<br/><span style=\"color:firebrick;font-weight:bold\">- en x, `Log2 Corrected Abundance Ratio`</span>\n",
        "<br/><span style=\"color:firebrick;font-weight:bold\">-  en y, `LOG10 Adj.P-val`</span>\n",
        "\n",
        "<span style=\"color:firebrick;font-weight:bold\">$\\rhd$Vous légenderez les axes, attention `LOG10 Adj.P-val` est en fait `-LOG10 Adj.P-val`, regardez bien.</span>"
      ]
    },
    {
      "cell_type": "code",
      "execution_count": 23,
      "metadata": {
        "colab": {
          "base_uri": "https://localhost:8080/",
          "height": 301
        },
        "id": "yNLH7j8epPyz",
        "outputId": "0410441e-456d-4275-89c9-f448eb794c18"
      },
      "outputs": [
        {
          "output_type": "stream",
          "name": "stdout",
          "text": [
            "1746\n",
            "1746\n"
          ]
        },
        {
          "output_type": "display_data",
          "data": {
            "text/plain": [
              "<Figure size 288x288 with 1 Axes>"
            ],
            "image/png": "[encoded data removed]"
          },
          "metadata": {
            "needs_background": "light"
          }
        }
      ],
      "source": [
        "fig, ax = plt.subplots(figsize=(4,4))\n",
        "ax.scatter(new_data['Log2 Corrected Abundance Ratio'], abs(new_data['LOG10 Adj.P-val']))\n",
        "print(len(new_data['Log2 Corrected Abundance Ratio']))\n",
        "print(len(abs(new_data['LOG10 Adj.P-val'])))\n"
      ]
    },
    {
      "cell_type": "markdown",
      "metadata": {
        "id": "MMQnmQDmhFKk"
      },
      "source": [
        "##### 2. Réaliser des versions évoluées du graphique précédent\n",
        "L'objectif est de mettre l'accent sur la région **-Log10 adj Pvalue > 4** et **Log2 corrected abundance ratio > 0**.\n",
        "<br/>Pour cela vous revisiterez le scatter plot précedent au travers des versions suivantes:\n",
        "<br/><span style=\"color:firebrick;font-weight:bold\"> $\\rhd$ première version : un rectangle de la couleur de votre choix matérialisera la région</span>\n",
        "<br/><span style=\"color:firebrick;font-weight:bold\"> $\\rhd$ deuxième version  : une couleur de votre choix représentera les points de la région</span>\n",
        "<br/><span style=\"color:firebrick;font-weight:bold\"> $\\rhd$ troisème version (optionnel): Les identifiants uniprot remplaceront les points des protéines de la région</span>"
      ]
    },
    {
      "cell_type": "code",
      "execution_count": 38,
      "metadata": {
        "colab": {
          "base_uri": "https://localhost:8080/",
          "height": 406
        },
        "id": "oTSWdZjZhFKl",
        "outputId": "29163d00-e3b4-4fa2-d29c-e9dbd11b2b6a"
      },
      "outputs": [
        {
          "output_type": "execute_result",
          "data": {
            "text/plain": [
              "<matplotlib.patches.Rectangle at 0x7f92a3e9c950>"
            ]
          },
          "metadata": {},
          "execution_count": 38
        },
        {
          "output_type": "display_data",
          "data": {
            "text/plain": [
              "<Figure size 720x432 with 1 Axes>"
            ],
            "image/png": "[encoded data removed]"
          },
          "metadata": {
            "needs_background": "light"
          }
        }
      ],
      "source": [
        "from matplotlib.patches import ArrowStyle\n",
        "from matplotlib.patches import Rectangle\n",
        "\n",
        "#1\n",
        "fig, ax = plt.subplots(figsize=(10,6), ncols=1, nrows=1)\n",
        "ax.scatter(new_data['Log2 Corrected Abundance Ratio'],new_data['LOG10 Adj.P-val'])\n",
        "ax.set_xlabel(\"Log2 Corrected Abundance Ratio\")\n",
        "ax.set_ylabel(\"-LOG10 Adj.P-val\")\n",
        "ax.add_patch(Rectangle((0,4), 1,4,facecolor='none', edgecolor='orange'))\n",
        "\n"
      ]
    },
    {
      "cell_type": "code",
      "source": [
        "#2\n",
        "fig2, ax2 = plt.subplots(figsize=(10,6), ncols=1, nrows=1)\n",
        "\n",
        "ax2.set_xlabel(\"Log2 Corrected Abundance Ratio\")\n",
        "ax2.set_ylabel(\"-LOG10 Adj.P-val\")\n",
        "ax2.add_patch(Rectangle((0,4), 1,4,facecolor='none', edgecolor='orange'))\n",
        "new_data['group'] = 'grey'\n",
        "new_data.loc[(new_data['y'] > 4 )  & (new_data['x'] > 0.0 ),'group' ] = 'tab:red'\n",
        "ax2.add_patch(Rectangle((0,4), 1,4,facecolor='none', edgecolor='orange'))\n",
        "ax2.scatter(new_data['Log2 Corrected Abundance Ratio'],new_data['LOG10 Adj.P-val'], c=new_data['group'])"
      ],
      "metadata": {
        "colab": {
          "base_uri": "https://localhost:8080/",
          "height": 406
        },
        "id": "S0ATvlOblofK",
        "outputId": "654e22b1-8c00-423f-c066-d7c0c688729e"
      },
      "execution_count": 54,
      "outputs": [
        {
          "output_type": "execute_result",
          "data": {
            "text/plain": [
              "<matplotlib.collections.PathCollection at 0x7f92a56f4a10>"
            ]
          },
          "metadata": {},
          "execution_count": 54
        },
        {
          "output_type": "display_data",
          "data": {
            "text/plain": [
              "<Figure size 720x432 with 1 Axes>"
            ],
            "image/png": "[encoded data removed]"
          },
          "metadata": {
            "needs_background": "light"
          }
        }
      ]
    },
    {
      "cell_type": "code",
      "source": [
        "#3\n",
        "fig3, ax3 = plt.subplots(figsize=(10,6), ncols=1, nrows=1)\n",
        "\n",
        "new_data['group'] = 'grey'\n",
        "new_data.loc[(new_data['y'] > 4 )  & (new_data['x'] > 0.0 ),'group' ] = 'tab:red'\n",
        "#new_data.loc[(new_data['y'] < 4 )  & (new_data['x'] > 0.0 ),'group' ] = 'tab:blue'\n",
        "\n",
        "\n",
        "ax3.scatter(new_data['Log2 Corrected Abundance Ratio'],new_data['LOG10 Adj.P-val'], c=new_data['group'])\n",
        "ax3.set_xlabel('Log2 Corrected Abundance Ratio',fontweight='bold')\n",
        "ax3.set_ylabel('LOG10 Adj.P-val',fontweight='bold')\n",
        "\n",
        "texts = []\n",
        "for i in range(len(data)):\n",
        "  if new_data.iloc[i].y > 4 and new_data.iloc[i].x > 0 :\n",
        "    texts.append(plt.text(x = new_data.iloc[i].x, y = new_data.iloc[i].y, s=new_data.iloc[i].Accession, fontsize = 8))\n"
      ],
      "metadata": {
        "colab": {
          "base_uri": "https://localhost:8080/",
          "height": 388
        },
        "id": "LgAs3C26j2Lp",
        "outputId": "05033c94-a6ca-4d61-e632-744d4b1d6d96"
      },
      "execution_count": 57,
      "outputs": [
        {
          "output_type": "display_data",
          "data": {
            "text/plain": [
              "<Figure size 720x432 with 1 Axes>"
            ],
            "image/png": "[encoded data removed]"
          },
          "metadata": {
            "needs_background": "light"
          }
        }
      ]
    },
    {
      "cell_type": "markdown",
      "metadata": {
        "id": "TEXcPI6lhFKl"
      },
      "source": [
        "#### Analyse ORA\n",
        "\n",
        "##### Principes\n",
        "Vous disposez d'un objet analyser permettant de réaliser une analyse de la sur-représentation (**ORA**) en termes GO parmi une liste de protéine d'intérêt.\n",
        "La fréquence des termes GO dans le protéome totale est utilisée comme référence.\n",
        "\n",
        "L'objet analyser s'instancie ainsi\n",
        "```python\n",
        "from stat_utils import GO_ORA_analyser\n",
        "o = GO_ORA_analyser(f\"{dataDir}/go.owl\", f\"{dataDir}/K12_proteome\", f\"{dataDir}/dataset\")\n",
        "```\n",
        "\n",
        "Il fournit une méthode pour chaque catégorie de termes GO\n",
        "<i>{ biological_process, molecular_function, cellular_component }</i>\n",
        "\n",
        "Une éventuelle surreprésentation des termes GO de la catégorie <i>biological_process</i> est par exemple calculée parmi les protéines P29744 et P05706 de la façon suivante:\n",
        "\n",
        "```python\n",
        "goTerm_scores = o.biological_process([\"P29744\", \"P05706\"])\n",
        "```\n",
        "<span style=\"color:green;font-weight:bold\">$\\uparrow$ Reproduire cet exemple dans la cellule ci-dessous.$\\downarrow$ </span>\n",
        "</br><span style=\"color:firebrick;font-weight:bold\"> $\\rhd$ Inspecter l'objet retourné par la méthode o.biological_process, que voyez-vous ?</span>"
      ]
    },
    {
      "cell_type": "code",
      "execution_count": 59,
      "metadata": {
        "colab": {
          "base_uri": "https://localhost:8080/"
        },
        "id": "uSGtZM39hFKm",
        "outputId": "97cb50a1-65e2-450f-ed53-2036e969f18d"
      },
      "outputs": [
        {
          "output_type": "stream",
          "name": "stdout",
          "text": [
            "Loading ontology\n",
            "Loaded\n",
            "Reading whole proteome\n",
            "4391 Loaded\n",
            "reading experimental protein set\n",
            "2024 Loaded\n"
          ]
        }
      ],
      "source": [
        "from stat_utils import GO_ORA_analyser\n",
        "o = GO_ORA_analyser(f\"{dataDir}/go.owl\", f\"{dataDir}/K12_proteome\", f\"{dataDir}/dataset\")\n",
        "#goTerm_scores = o.biological_process([\"P29744\", \"P05706\"])\n",
        "#print(goTerm_scores)"
      ]
    },
    {
      "cell_type": "markdown",
      "metadata": {
        "id": "NnD-stGHhFKn"
      },
      "source": [
        "###### 2/ Analyser la représentation des termes GO parmi les protéines surabondantes de l'experience\n",
        "<span style=\"color:firebrick;font-weight:bold\"> $\\rhd$ Vous devrez extraire les identifiants uniprot des protéines aux `Log2 Corrected Abundance Ratio` supérieurs au seuil alpha de 5%.</span>\n",
        "<br/><span style=\"color:firebrick;font-weight:bold\"> $\\rhd$ Vous conduirez sur cette liste de protéines une analyse de sur-représentation en termes GO à l'aide d'un objet *GO_ORA_analyser*.</span>\n",
        "<br/><span style=\"color:firebrick;font-weight:bold\"> $\\rhd$ Vous pouvez faire varier le seuil d'abondance autour de la valeur alpha.</span>\n",
        "<br/><span style=\"color:firebrick;font-weight:bold\"> $\\rhd$ Vous traiterez les 3 catégories *biological_process / molecular_function /cellular_component*.</span>\n",
        "\n",
        "\n",
        "\n",
        "Familiarisez-vous avec la structures des dictionnaires de résultas, vous pouvez [les sauvegarder au format json](https://docs.python.org/3/library/json.html).\n"
      ]
    },
    {
      "cell_type": "code",
      "execution_count": null,
      "metadata": {
        "colab": {
          "base_uri": "https://localhost:8080/"
        },
        "id": "Ns4clSz2MG8v",
        "outputId": "3783a0ae-16f0-41e7-f4fb-7b297c6013a7"
      },
      "outputs": [
        {
          "output_type": "stream",
          "name": "stdout",
          "text": [
            "Loading ontology\n",
            "Loaded\n",
            "Reading whole proteome\n",
            "4391 Loaded\n",
            "reading experimental protein set\n",
            "2024 Loaded\n",
            "Building biological process GO Tree\n",
            "Extracting biological process ontology\n",
            "Applying true path collapsing\n",
            "389 GO terms, 105 leaves, 53 proteins\n",
            "Extracting biological process ontology\n",
            "Applying true path collapsing\n",
            "2728 GO terms, 6650 leaves, 3128 proteins\n",
            "Evaluated 388 / 388 Pathways, based on 67 proteins\n",
            "\n",
            "\n",
            "Loading ontology\n",
            "Loaded\n",
            "Reading whole proteome\n",
            "4391 Loaded\n",
            "reading experimental protein set\n",
            "2024 Loaded\n",
            "molecular function process GO Tree\n",
            "Extracting molecular function ontology\n",
            "Applying true path collapsing\n",
            "181 GO terms, 143 leaves, 49 proteins\n",
            "Extracting molecular function ontology\n",
            "Applying true path collapsing\n",
            "2264 GO terms, 7807 leaves, 3118 proteins\n",
            "Evaluated 180 / 180 Pathways, based on 67 proteins\n",
            "\n",
            "\n",
            "Loading ontology\n",
            "Loaded\n",
            "Reading whole proteome\n",
            "4391 Loaded\n",
            "reading experimental protein set\n",
            "2024 Loaded\n",
            "cellular component process GO Tree\n",
            "Extracting cellular component ontology\n",
            "Applying true path collapsing\n",
            "61 GO terms, 128 leaves, 65 proteins\n",
            "Extracting cellular component ontology\n",
            "Applying true path collapsing\n",
            "239 GO terms, 4698 leaves, 2805 proteins\n",
            "Evaluated 60 / 60 Pathways, based on 67 proteins\n",
            "\n",
            "\n",
            "Loading ontology\n",
            "Loaded\n",
            "Reading whole proteome\n",
            "4391 Loaded\n",
            "reading experimental protein set\n",
            "2024 Loaded\n",
            "Building biological process GO Tree\n",
            "Extracting biological process ontology\n",
            "Applying true path collapsing\n",
            "389 GO terms, 105 leaves, 53 proteins\n",
            "Extracting biological process ontology\n",
            "Applying true path collapsing\n",
            "2728 GO terms, 6650 leaves, 3128 proteins\n",
            "Evaluated 388 / 388 Pathways, based on 67 proteins\n",
            "\n",
            "\n",
            "Loading ontology\n",
            "Loaded\n",
            "Reading whole proteome\n",
            "4391 Loaded\n",
            "reading experimental protein set\n",
            "2024 Loaded\n",
            "molecular function process GO Tree\n",
            "Extracting molecular function ontology\n",
            "Applying true path collapsing\n",
            "181 GO terms, 143 leaves, 49 proteins\n",
            "Extracting molecular function ontology\n",
            "Applying true path collapsing\n",
            "2264 GO terms, 7807 leaves, 3118 proteins\n",
            "Evaluated 180 / 180 Pathways, based on 67 proteins\n",
            "\n",
            "\n",
            "Loading ontology\n",
            "Loaded\n",
            "Reading whole proteome\n",
            "4391 Loaded\n",
            "reading experimental protein set\n",
            "2024 Loaded\n",
            "cellular component process GO Tree\n",
            "Extracting cellular component ontology\n",
            "Applying true path collapsing\n",
            "61 GO terms, 128 leaves, 65 proteins\n",
            "Extracting cellular component ontology\n",
            "Applying true path collapsing\n",
            "239 GO terms, 4698 leaves, 2805 proteins\n",
            "Evaluated 60 / 60 Pathways, based on 67 proteins\n",
            "\n",
            "\n",
            "Loading ontology\n",
            "Loaded\n",
            "Reading whole proteome\n",
            "4391 Loaded\n",
            "reading experimental protein set\n",
            "2024 Loaded\n",
            "Building biological process GO Tree\n",
            "Extracting biological process ontology\n",
            "Applying true path collapsing\n",
            "389 GO terms, 105 leaves, 53 proteins\n",
            "Extracting biological process ontology\n",
            "Applying true path collapsing\n",
            "2728 GO terms, 6650 leaves, 3128 proteins\n",
            "Evaluated 388 / 388 Pathways, based on 67 proteins\n",
            "\n",
            "\n",
            "Loading ontology\n",
            "Loaded\n",
            "Reading whole proteome\n",
            "4391 Loaded\n",
            "reading experimental protein set\n",
            "2024 Loaded\n",
            "molecular function process GO Tree\n",
            "Extracting molecular function ontology\n",
            "Applying true path collapsing\n",
            "181 GO terms, 143 leaves, 49 proteins\n",
            "Extracting molecular function ontology\n",
            "Applying true path collapsing\n",
            "2264 GO terms, 7807 leaves, 3118 proteins\n",
            "Evaluated 180 / 180 Pathways, based on 67 proteins\n",
            "\n",
            "\n",
            "Loading ontology\n",
            "Loaded\n",
            "Reading whole proteome\n",
            "4391 Loaded\n",
            "reading experimental protein set\n",
            "2024 Loaded\n",
            "cellular component process GO Tree\n",
            "Extracting cellular component ontology\n",
            "Applying true path collapsing\n",
            "61 GO terms, 128 leaves, 65 proteins\n",
            "Extracting cellular component ontology\n",
            "Applying true path collapsing\n",
            "239 GO terms, 4698 leaves, 2805 proteins\n",
            "Evaluated 60 / 60 Pathways, based on 67 proteins\n",
            "\n",
            "\n",
            "Loading ontology\n",
            "Loaded\n",
            "Reading whole proteome\n",
            "4391 Loaded\n",
            "reading experimental protein set\n",
            "2024 Loaded\n",
            "Building biological process GO Tree\n",
            "Extracting biological process ontology\n",
            "Applying true path collapsing\n",
            "389 GO terms, 105 leaves, 53 proteins\n",
            "Extracting biological process ontology\n",
            "Applying true path collapsing\n",
            "2728 GO terms, 6650 leaves, 3128 proteins\n",
            "Evaluated 388 / 388 Pathways, based on 67 proteins\n",
            "\n",
            "\n",
            "Loading ontology\n",
            "Loaded\n",
            "Reading whole proteome\n",
            "4391 Loaded\n",
            "reading experimental protein set\n",
            "2024 Loaded\n",
            "molecular function process GO Tree\n",
            "Extracting molecular function ontology\n",
            "Applying true path collapsing\n",
            "181 GO terms, 143 leaves, 49 proteins\n",
            "Extracting molecular function ontology\n",
            "Applying true path collapsing\n",
            "2264 GO terms, 7807 leaves, 3118 proteins\n",
            "Evaluated 180 / 180 Pathways, based on 67 proteins\n",
            "\n",
            "\n",
            "Loading ontology\n",
            "Loaded\n",
            "Reading whole proteome\n",
            "4391 Loaded\n",
            "reading experimental protein set\n",
            "2024 Loaded\n",
            "cellular component process GO Tree\n",
            "Extracting cellular component ontology\n",
            "Applying true path collapsing\n",
            "61 GO terms, 128 leaves, 65 proteins\n",
            "Extracting cellular component ontology\n",
            "Applying true path collapsing\n",
            "239 GO terms, 4698 leaves, 2805 proteins\n",
            "Evaluated 60 / 60 Pathways, based on 67 proteins\n",
            "\n",
            "\n",
            "Loading ontology\n",
            "Loaded\n",
            "Reading whole proteome\n",
            "4391 Loaded\n",
            "reading experimental protein set\n",
            "2024 Loaded\n",
            "Building biological process GO Tree\n",
            "Extracting biological process ontology\n",
            "Applying true path collapsing\n",
            "389 GO terms, 105 leaves, 53 proteins\n",
            "Extracting biological process ontology\n",
            "Applying true path collapsing\n",
            "2728 GO terms, 6650 leaves, 3128 proteins\n"
          ]
        }
      ],
      "source": [
        "# extraire les identifiants uniprot des protéines aux Log2 Corrected Abundance Ratio supérieurs au seuil alpha de 5%.\n",
        "# sur cette liste de protéines une analyse de sur-représentation en termes GO à l'aide d'un objet GO_ORA_analyser.\n",
        "# faire varier le seuil d'abondance autour de la valeur alpha (-0.099..-0.095..-0.091)\n",
        "# 3 catégories biological_process / molecular_function /cellular_component\n",
        "\n",
        "pv = -0.091\n",
        "while pv > -0.099 :\n",
        "\n",
        "    new_data=new_data.loc[new_data[\"Log2 Corrected Abundance Ratio\"]> -0.095] #recuperation des id avec une abondance superieur à 5%\n",
        "    \n",
        "    #Analyse de \"biological process\"\n",
        "    o = GO_ORA_analyser(f\"{dataDir}/go.owl\", f\"{dataDir}/K12_proteome\", f\"{dataDir}/dataset\")\n",
        "    new_data_bp = o.biological_process(new_data['Accession'].values.tolist())\n",
        "    print(\"\\n\")\n",
        "\n",
        "    #Analyse de \"molecular function\"\n",
        "    o = GO_ORA_analyser(f\"{dataDir}/go.owl\", f\"{dataDir}/K12_proteome\", f\"{dataDir}/dataset\")\n",
        "    new_data_mf = o.molecular_function(new_data['Accession'].values.tolist())\n",
        "    print(\"\\n\")\n",
        "\n",
        "    #Analyse de \"cellular component\"\n",
        "    o = GO_ORA_analyser(f\"{dataDir}/go.owl\", f\"{dataDir}/K12_proteome\", f\"{dataDir}/dataset\")\n",
        "    new_data_cc = o.cellular_component(new_data['Accession'].values.tolist())\n",
        "    print(\"\\n\")\n",
        "\n",
        "    pv -= 0.001"
      ]
    },
    {
      "cell_type": "code",
      "execution_count": 69,
      "metadata": {
        "id": "AQ86H2T4hFKn",
        "colab": {
          "base_uri": "https://localhost:8080/"
        },
        "outputId": "81480643-268c-4269-ab64-0af67d979d01"
      },
      "outputs": [
        {
          "output_type": "stream",
          "name": "stdout",
          "text": [
            "<class 'list'>\n",
            "2.4384924030882882e-05\n",
            "(6.8944572288325495e-19, 'cell outer membrane', 'GO:0009279', ['P0A921', 'P0ADE4', 'P02943', 'P0A940', 'P09169', 'P05825', 'P0A915', 'P39180', 'P0A905', 'P76471', 'P76506', 'P13036', 'P0A927', 'P10384', 'P06971', 'P0A910', 'P0A908', 'P75780', 'P06996', 'P06129', 'P02930', 'P0A917', 'P02931', 'P0AB40', 'P0A921', 'P09169', 'P0A921', 'P0ADE4', 'P02943', 'P05825', 'P0A937', 'P06996', 'P0A903', 'P77774', 'P0A940', 'P0A937'])\n",
            "(1.1519075123216585e-06, 'porin activity', 'GO:0015288', ['P02943', 'P0A910', 'P06996', 'P06129', 'P02930', 'P02931', 'P02943', 'P0A927', 'P10384'])\n"
          ]
        }
      ],
      "source": [
        "print(type(new_data_bp))\n",
        "print(new_data_bp[0])\n",
        "print(new_data_cc[0])\n",
        "print(new_data_mf[0])"
      ]
    },
    {
      "cell_type": "code",
      "source": [
        "# Familiarisez-vous avec la structures des dictionnaires de résultas, vous pouvez les sauvegarder au format json.\n",
        "  \n",
        "  "
      ],
      "metadata": {
        "id": "Jh3B7Ct6Idpi"
      },
      "execution_count": null,
      "outputs": []
    },
    {
      "cell_type": "markdown",
      "metadata": {
        "id": "Xxeg831mhFKn"
      },
      "source": [
        "## Une première application: représentation riche du résultat de l'analyse\n",
        "\n",
        "\n",
        "### Mise en forme \"riche\" des résultats grâce au notebook\n",
        "\n",
        "Jupyter permet d'étendre le concept de la méthode **__str__()** afin de produire du contenu HTML.\n",
        " Ainsi, tout objet impémentant une méthode **_repr_html_()** sera affiché, via son rendu HTML, dans la cellule d'un notebook.\n",
        "\n",
        "```python\n",
        "class Point():\n",
        "    def __init__(self, x, y, z):\n",
        "        self.x = x\n",
        "        self.y = y\n",
        "        self.z = z\n",
        "    def _repr_html_(self):\n",
        "        htmlString = \"<table><thead><tr><td>Abscisse</td><td>Ordonnée</td><td>Cote</td></tr></thead>\"\n",
        "        htmlString += f\"<tbody><tr><td>{self.x}</td><td>{self.y}</td><td>{self.z}</td></tr></tbody></table>\"\n",
        "        return htmlString\n",
        "Point(2,3,4)\n",
        "```\n",
        "Affichera\n",
        "\n",
        "![caption](../figs/reprhtml.png)\n",
        "\n",
        "\n",
        "### Intégration des résultats à la visualisation du notebook \n",
        "\n",
        "En vous inspirant de la fonction ci-dessus, implémenter une classe Rich_GO_ORA dont la méthode [`_repr_html_`](https://ipython.readthedocs.io/en/stable/config/integrating.html) permettra un affichage plus lisible d'une des analyses `biological_process / molecular_function /cellular_component`\n",
        "\n",
        "Un exemple possible est,\n",
        "![caption](../figs/_repr_html_.png)\n",
        "\n",
        "(Bonus): clicker sur le nom du terme GO envoie vers sa description.\n",
        "Pour cela, afficher le nom du pathway dans une balise hyperlien pour permettre d'acceder à la page de description du terme GO. \n",
        "\n",
        "Les termes GO sont accessibles aux URL de la forme\n",
        "`http://amigo.geneontology.org/amigo/term/GO:GO_NUMBER`.\n",
        "\n",
        "\n"
      ]
    },
    {
      "cell_type": "code",
      "execution_count": null,
      "metadata": {
        "id": "coU5_soJhFKn"
      },
      "outputs": [],
      "source": [
        "class GO():\n",
        "  def __init__(self, go_list):\n",
        "    self.go_list = go_list\n",
        "\n",
        "  def _repr_html_(self):\n",
        "    htmlString = \"<table><thead><tr><td>p-value</td><td>Description</td><td>GO</td><td>number of id</td><td>id</td></tr></thead><tbody>\"\n",
        "    for line in self.go_list:\n",
        "      \n",
        "      htmlString += f\"<tr><td>{line[0]}</td><td>{line[1]}</td><td>{line[2]}</td><td>{len(line[3])}</td><td>{line[3]}</td></tr>\"\n",
        "    htmlString += \"</tbody></table>\"\n",
        "    return htmlString\n",
        "\n",
        "GO(new_data_bp)"
      ]
    },
    {
      "cell_type": "markdown",
      "metadata": {
        "id": "nj0VADJyhFKn"
      },
      "source": [
        "## Une deuxième application: volcano plot améliorés\n",
        "###### PANDAS\n",
        "En choisissant comme seuil la valeur `alpha` du TP précédent, veuillez extraires les identifiants uniprot des protéines sur-abondantes (rappel les valeurs d'abondance sont celles de la colonne `Log2 Corrected Abundance Ratio`).\n",
        "\n",
        "Vous devrez avoir dans des listes distinctes:\n",
        "* identifiants uniprot\n",
        "* `Log2 Corrected Abundance Ratio`\n",
        "* `LOG10 Adj.P-val'`\n",
        "\n",
        "###### Représentation graphiques\n",
        "* Pour la catégorie de termes GO (biological_process / molecular_function /cellular_component) de votre choix\n",
        "    * Générer une grille de 4 graphiques \n",
        "    * Dans chaque graphique colorez dans une couleur différentes les protéines porteuses de 4 termes de GO que vous estimez les plus pertinents \n",
        "    * Donnez le nom de la catégorie générale à la grille\n",
        "    * Donnez le nom du terme GO représenté dans chaque graphique avec une couleur de titre cohérente.\n",
        "    "
      ]
    },
    {
      "cell_type": "code",
      "execution_count": null,
      "metadata": {
        "id": "wy5qoo0MhFKo"
      },
      "outputs": [],
      "source": [
        "alpha = -0.096\n",
        "bp = pd.DataFrame(new_data_bp, columns=['p-value', 'description', 'go', 'list of proteines'])\n",
        "new_data = new_data.loc[new_data[\"Log2 Corrected Abundance Ratio\"]>alpha]   #  les valeurs d'abondance sont celles de la colonne Log2 Corrected Abundance Ratio\n",
        "\n",
        "fig4, ax4 = plt.subplots(figsize=(10,10), ncols=2, nrows=2) # Générer une grille de 4 graphiques \n",
        "\n",
        "\n",
        "# GO:0051234\n",
        "ax4[0][0].scatter(new_data[\"Log2 Corrected Abundance Ratio\"], new_data[\"LOG10 Adj.P-val\"])\n",
        "ax4[0][0].set_xlabel(\"Log2 Corrected Abundance Ratio\")\n",
        "ax4[0][0].set_ylabel(\"-LOG10 Adj.P-val\")\n",
        "list_id = bp.loc[bp['go']=='GO:0051234'][\"list of proteines\"] \n",
        "new_data_prot = new_data.loc[new_data['Accession'].isin(list_id.tolist()[0])]\n",
        "ax4[0][0].scatter(new_data_prot[\"Log2 Corrected Abundance Ratio\"], new_data_prot[\"LOG10 Adj.P-val\"], color='red')\n",
        "ax4[0][0].set_title('GO:0051234')\n",
        "\n",
        "# GO:1901566\n",
        "ax4[0][1].scatter(new_data[\"Log2 Corrected Abundance Ratio\"], new_data[\"LOG10 Adj.P-val\"])\n",
        "ax4[0][1].set_xlabel(\"Log2 Corrected Abundance Ratio\")\n",
        "ax4[0][1].set_ylabel(\"-LOG10 Adj.P-val\")\n",
        "list_id = bp.loc[bp['go']=='GO:1901566'][\"list of proteines\"] \n",
        "new_data_prot = new_data.loc[new_data['Accession'].isin(list_id.tolist()[0])]\n",
        "ax4[0][1].scatter(new_data_prot[\"Log2 Corrected Abundance Ratio\"], new_data_prot[\"LOG10 Adj.P-val\"], color='orange')\n",
        "ax4[0][1].set_title('GO:1901566')\n",
        "\n",
        "# GO:0050896\t\n",
        "ax4[1][0].scatter(new_data[\"Log2 Corrected Abundance Ratio\"], new_data[\"LOG10 Adj.P-val\"])\n",
        "ax4[1][0].set_xlabel(\"Log2 Corrected Abundance Ratio\")\n",
        "ax4[1][0].set_ylabel(\"-LOG10 Adj.P-val\")\n",
        "list_id = bp.loc[bp['go']=='GO:0050896'][\"list of proteines\"] \n",
        "new_data_prot = new_data.loc[new_data['Accession'].isin(list_id.tolist()[0])]\n",
        "ax4[1][0].scatter(new_data_prot[\"Log2 Corrected Abundance Ratio\"], new_data_prot[\"LOG10 Adj.P-val\"], color='light green')\n",
        "ax4[1][0].set_title('GO:0050896')\n",
        "\n",
        "# GO:0044260\n",
        "ax4[1][1].scatter(new_data[\"Log2 Corrected Abundance Ratio\"], new_data[\"LOG10 Adj.P-val\"])\n",
        "ax4[1][1].set_xlabel(\"Log2 Corrected Abundance Ratio\")\n",
        "ax4[1][1].set_ylabel(\"-LOG10 Adj.P-val\")\n",
        "list_id = bp.loc[bp['go']=='GO:0044260'][\"list of proteines\"] \n",
        "new_data_prot = new_data.loc[new_data['Accession'].isin(list_id.tolist()[0])]\n",
        "ax4[1][1].scatter(new_data_prot[\"Log2 Corrected Abundance Ratio\"], new_data_prot[\"LOG10 Adj.P-val\"], color='brown')\n",
        "ax4[1][1].set_title('GO:0044260')\n"
      ]
    }
  ],
  "metadata": {
    "colab": {
      "collapsed_sections": [],
      "provenance": [],
      "include_colab_link": true
    },
    "kernelspec": {
      "display_name": "Python 3 (ipykernel)",
      "language": "python",
      "name": "python3"
    },
    "language_info": {
      "codemirror_mode": {
        "name": "ipython",
        "version": 3
      },
      "file_extension": ".py",
      "mimetype": "text/x-python",
      "name": "python",
      "nbconvert_exporter": "python",
      "pygments_lexer": "ipython3",
      "version": "3.8.13"
    }
  },
  "nbformat": 4,
  "nbformat_minor": 0
}